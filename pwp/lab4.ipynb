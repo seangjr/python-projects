{
 "cells": [
  {
   "cell_type": "code",
   "execution_count": 38,
   "metadata": {},
   "outputs": [
    {
     "name": "stdout",
     "output_type": "stream",
     "text": [
      "The list is: [1, 2, 3, 4, 5, 6, 7, 8, 9, 0]\n"
     ]
    }
   ],
   "source": [
    "list = [];\n",
    "\n",
    "for i in range(10):\n",
    "    element = int(input(\"Enter a number: \"));\n",
    "    list.append(element);\n",
    "\n",
    "print(\"The list is: %s\" % list);\n"
   ]
  },
  {
   "cell_type": "code",
   "execution_count": 39,
   "metadata": {},
   "outputs": [
    {
     "name": "stdout",
     "output_type": "stream",
     "text": [
      "The list is: [3, 3]\n",
      "The sum of the list is: 6\n"
     ]
    }
   ],
   "source": [
    "list = [];\n",
    "sum = 0;\n",
    "i = int(input(\"Enter the number of elements: \"));\n",
    "\n",
    "for j in range(i):\n",
    "    element = int(input(\"Enter a number: \"));\n",
    "    list.append(element);\n",
    "    sum += element;\n",
    "\n",
    "print(\"The list is: %s\" % list);\n",
    "print(\"The sum of the list is: %d\" % sum);"
   ]
  },
  {
   "cell_type": "code",
   "execution_count": 40,
   "metadata": {},
   "outputs": [
    {
     "name": "stdout",
     "output_type": "stream",
     "text": [
      "The list of students are: ['bro', 'bsdf', 'sdf', 'sfd', 'sdsf']\n"
     ]
    }
   ],
   "source": [
    "list = [];\n",
    "students = 5;\n",
    "for i in range(students):\n",
    "    name = input(\"Enter a name: \");\n",
    "    list.append(name);\n",
    "\n",
    "print(\"The list of students are: %s\" % list);"
   ]
  },
  {
   "cell_type": "code",
   "execution_count": null,
   "metadata": {},
   "outputs": [],
   "source": [
    "list = [];\n",
    "students = 5;\n",
    "sum = 0;\n",
    "\n",
    "for i in range(students):\n",
    "    marks = int(input(\"Enter the marks: \"));\n",
    "    list.append(marks);\n",
    "    sum += marks;\n",
    "\n",
    "average = sum / students;\n",
    "print(\"The average of the marks is: %d\" % average);"
   ]
  },
  {
   "cell_type": "code",
   "execution_count": 41,
   "metadata": {},
   "outputs": [
    {
     "name": "stdout",
     "output_type": "stream",
     "text": [
      "Number found\n"
     ]
    }
   ],
   "source": [
    "list = [65, 75, 85, 95, 105];\n",
    "found = False;\n",
    "\n",
    "number = int(input(\"Enter a number: \"));\n",
    "for i in range(len(list)):\n",
    "    if list[i] == number:\n",
    "        found = True;\n",
    "        print(\"Number found\");\n",
    "        break;\n",
    "    else:\n",
    "        print(\"Number not found\");"
   ]
  },
  {
   "cell_type": "code",
   "execution_count": 42,
   "metadata": {},
   "outputs": [
    {
     "name": "stdout",
     "output_type": "stream",
     "text": [
      "Name: Sean\n",
      "TPNumber: 999\n",
      "Total marks: 257\n",
      "Average: 85.66666666666667\n",
      "Grade: A+\n"
     ]
    }
   ],
   "source": [
    "list = [];\n",
    "total = 0;\n",
    "grade = \"\"\n",
    "\n",
    "name = str(input(\"Enter name of student: \"));\n",
    "tpnumber = str(input(\"Enter TP number of %s: \" % name));\n",
    "subject_count = int(input(\"Enter the number of subjects: \"));\n",
    "\n",
    "for i in range(subject_count):\n",
    "    marks = int(input(\"Enter the marks for subject %s: \" % (i + 1)));\n",
    "    list.append(marks);\n",
    "    total += marks;\n",
    "\n",
    "average = total / subject_count;\n",
    "\n",
    "if average >= 80:\n",
    "    grade = \"A+\"\n",
    "elif average >= 75 and average < 80:\n",
    "    grade = \"A\"\n",
    "elif average >= 70 and average < 75:\n",
    "    grade = \"B+\"\n",
    "elif average >= 65 and average < 70:\n",
    "    grade = \"B\"\n",
    "elif average >= 60 and average < 65:\n",
    "    grade = \"C+\"\n",
    "elif average >= 55 and average < 60:\n",
    "    grade = \"C\"\n",
    "elif average >= 50 and average < 55:\n",
    "    grade = \"C-\"\n",
    "else:\n",
    "    grade = \"F\"\n",
    "\n",
    "print(\"Name: %s\\nTPNumber: %s\\nTotal marks: %s\\nAverage: %s\\nGrade: %s\" % (name, tpnumber, total, average, grade));\n"
   ]
  }
 ],
 "metadata": {
  "interpreter": {
   "hash": "e7370f93d1d0cde622a1f8e1c04877d8463912d04d973331ad4851f04de6915a"
  },
  "kernelspec": {
   "display_name": "Python 3.10.2 64-bit",
   "language": "python",
   "name": "python3"
  },
  "language_info": {
   "codemirror_mode": {
    "name": "ipython",
    "version": 3
   },
   "file_extension": ".py",
   "mimetype": "text/x-python",
   "name": "python",
   "nbconvert_exporter": "python",
   "pygments_lexer": "ipython3",
   "version": "3.10.2"
  },
  "orig_nbformat": 4
 },
 "nbformat": 4,
 "nbformat_minor": 2
}
