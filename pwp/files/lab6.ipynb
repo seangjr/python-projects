{
 "cells": [
  {
   "cell_type": "code",
   "execution_count": 20,
   "metadata": {},
   "outputs": [
    {
     "name": "stdout",
     "output_type": "stream",
     "text": [
      "Enter flight information for flight # 1\n",
      "Enter flight information for flight # 2\n"
     ]
    }
   ],
   "source": [
    "def collectInformation():\n",
    "    \"\"\"\n",
    "    Collects flight information from user\n",
    "    \"\"\"\n",
    "    flightInformation = []\n",
    "    for i in range(5):\n",
    "        print(\"Enter flight information for flight #\", i + 1)\n",
    "        departureAirport = input(\"Departure airport: \")\n",
    "        arrivalAirport = input(\"Arrival airport: \")\n",
    "        departureTime = input(\"Departure time: \")\n",
    "        arrivalTime = input(\"Arrival time: \")\n",
    "        flightList = [departureAirport, arrivalAirport, departureTime, arrivalTime]\n",
    "        flightInformation.append(flightList)\n",
    "    return flightInformation\n",
    "\n",
    "        \n",
    "data = collectInformation()\n",
    "with open('/home/sean/Programming/python-projects/pwp/files/master.txt', 'w') as f:\n",
    "    for i in range(len(data)):\n",
    "        line = str(data[i]).strip(\"[]\").replace(\"'\", \"\")\n",
    "        f.write(line + \"\\n\")"
   ]
  }
 ],
 "metadata": {
  "interpreter": {
   "hash": "e7370f93d1d0cde622a1f8e1c04877d8463912d04d973331ad4851f04de6915a"
  },
  "kernelspec": {
   "display_name": "Python 3.10.2 64-bit",
   "language": "python",
   "name": "python3"
  },
  "language_info": {
   "codemirror_mode": {
    "name": "ipython",
    "version": 3
   },
   "file_extension": ".py",
   "mimetype": "text/x-python",
   "name": "python",
   "nbconvert_exporter": "python",
   "pygments_lexer": "ipython3",
   "version": "3.10.2"
  },
  "orig_nbformat": 4
 },
 "nbformat": 4,
 "nbformat_minor": 2
}
