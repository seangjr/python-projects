{
 "cells": [
  {
   "cell_type": "code",
   "execution_count": 37,
   "metadata": {},
   "outputs": [
    {
     "name": "stdout",
     "output_type": "stream",
     "text": [
      "1\n",
      "2\n",
      "3\n",
      "4\n",
      "5\n",
      "6\n",
      "7\n",
      "8\n",
      "9\n",
      "10\n",
      "11\n",
      "12\n",
      "13\n",
      "14\n",
      "15\n"
     ]
    }
   ],
   "source": [
    "for i in range(1, 16):\n",
    "    print(i);\n"
   ]
  },
  {
   "cell_type": "code",
   "execution_count": 38,
   "metadata": {},
   "outputs": [
    {
     "name": "stdout",
     "output_type": "stream",
     "text": [
      "55\n"
     ]
    }
   ],
   "source": [
    "sum = 0;\n",
    "for i in range(1, 11):\n",
    "    sum += i;\n",
    "print(sum);"
   ]
  },
  {
   "cell_type": "code",
   "execution_count": 39,
   "metadata": {},
   "outputs": [
    {
     "name": "stdout",
     "output_type": "stream",
     "text": [
      "30\n"
     ]
    }
   ],
   "source": [
    "sum = 0;\n",
    "for i in range(0, 11, 2):\n",
    "    sum += i;\n",
    "print(sum);"
   ]
  },
  {
   "cell_type": "code",
   "execution_count": 40,
   "metadata": {},
   "outputs": [
    {
     "name": "stdout",
     "output_type": "stream",
     "text": [
      "Even numbers from 1 to 20\n",
      "2\n",
      "4\n",
      "6\n",
      "8\n",
      "10\n",
      "12\n",
      "14\n",
      "16\n",
      "18\n",
      "20\n",
      "Odd numbers from 1 to 20\n",
      "1\n",
      "3\n",
      "5\n",
      "7\n",
      "9\n",
      "11\n",
      "13\n",
      "15\n",
      "17\n",
      "19\n"
     ]
    }
   ],
   "source": [
    "print(\"Even numbers from 1 to 20\");\n",
    "for i in range(2, 21, 2):\n",
    "    print(i);\n",
    "print(\"Odd numbers from 1 to 20\");\n",
    "for j in range(1, 21, 2):\n",
    "    print(j);"
   ]
  },
  {
   "cell_type": "code",
   "execution_count": 41,
   "metadata": {},
   "outputs": [
    {
     "name": "stdout",
     "output_type": "stream",
     "text": [
      "24 x 1 = 24\n",
      "24 x 2 = 48\n",
      "24 x 3 = 72\n",
      "24 x 4 = 96\n",
      "24 x 5 = 120\n",
      "24 x 6 = 144\n",
      "24 x 7 = 168\n",
      "24 x 8 = 192\n",
      "24 x 9 = 216\n",
      "24 x 10 = 240\n"
     ]
    }
   ],
   "source": [
    "num = int(input(\"Enter a number: \"));\n",
    "product = 0;\n",
    "for i in range(1, 11):\n",
    "    product = num * i;\n",
    "    print(\"%s x %s = %s\" % (num, i, product));"
   ]
  },
  {
   "cell_type": "code",
   "execution_count": 42,
   "metadata": {},
   "outputs": [
    {
     "name": "stdout",
     "output_type": "stream",
     "text": [
      "Sum of all even numbers from 1 to 20 is:  110\n",
      "Sum of all odd numbers from 1 to 20 is:  100\n"
     ]
    }
   ],
   "source": [
    "evensum = 0;\n",
    "oddsum = 0;\n",
    "for i in range(0, 21, 2):\n",
    "    evensum += i;\n",
    "print(\"Sum of all even numbers from 1 to 20 is: \", evensum);\n",
    "for j in range(1, 21, 2):\n",
    "    oddsum += j;\n",
    "print(\"Sum of all odd numbers from 1 to 20 is: \", oddsum);"
   ]
  },
  {
   "cell_type": "code",
   "execution_count": 43,
   "metadata": {},
   "outputs": [
    {
     "name": "stdout",
     "output_type": "stream",
     "text": [
      "Factorial of 3 is 6\n"
     ]
    }
   ],
   "source": [
    "factorial = 1;\n",
    "num = 3;\n",
    "for i in range(2, num+1):\n",
    "    factorial *= i;\n",
    "print(\"Factorial of %s is %s\" % (num, factorial));"
   ]
  },
  {
   "cell_type": "code",
   "execution_count": 44,
   "metadata": {},
   "outputs": [
    {
     "name": "stdout",
     "output_type": "stream",
     "text": [
      "Reverse of 1234 is 4321\n"
     ]
    }
   ],
   "source": [
    "num = 1234;\n",
    "temp = num;\n",
    "reversed_num = 0;\n",
    "\n",
    "while temp != 0:\n",
    "    remainder = temp % 10;\n",
    "    reversed_num = reversed_num * 10 + remainder;\n",
    "    temp //= 10;\n",
    "\n",
    "print(\"Reverse of %s is %s\" %(num, reversed_num));"
   ]
  },
  {
   "cell_type": "code",
   "execution_count": 45,
   "metadata": {},
   "outputs": [
    {
     "name": "stdout",
     "output_type": "stream",
     "text": [
      "407 is an Armstrong number\n"
     ]
    }
   ],
   "source": [
    "num = 407;\n",
    "order = len(str(num));\n",
    "sum = 0;\n",
    "temp = num;\n",
    "\n",
    "while temp > 0:\n",
    "    remainder = temp % 10;\n",
    "    sum += remainder ** order;\n",
    "    temp //= 10;\n",
    "\n",
    "if num == sum:\n",
    "    print(\"%s is an Armstrong number\" %num);\n",
    "else:\n",
    "    print(\"%s is not an Armstrong number\" %num);"
   ]
  },
  {
   "cell_type": "code",
   "execution_count": 46,
   "metadata": {},
   "outputs": [
    {
     "name": "stdout",
     "output_type": "stream",
     "text": [
      "23432 is a palindrome\n"
     ]
    }
   ],
   "source": [
    "num = 23432;\n",
    "temp = num;\n",
    "reversed_num = 0;\n",
    "\n",
    "while temp != 0:\n",
    "    remainder = temp % 10;\n",
    "    reversed_num = reversed_num * 10 + remainder;\n",
    "    temp //= 10;\n",
    "\n",
    "if num == reversed_num:\n",
    "    print(\"%s is a palindrome\" %num);\n",
    "else:\n",
    "    print(\"%s is not a palindrome\" %num);"
   ]
  },
  {
   "cell_type": "code",
   "execution_count": 47,
   "metadata": {},
   "outputs": [
    {
     "name": "stdout",
     "output_type": "stream",
     "text": [
      "Fibonacci sequence: \n",
      "0\n",
      "1\n",
      "1\n",
      "2\n",
      "3\n",
      "5\n",
      "8\n",
      "13\n",
      "21\n",
      "34\n",
      "55\n"
     ]
    }
   ],
   "source": [
    "nterms = 10; n1, n2 = 0, 1; count = 0;\n",
    "print(\"Fibonacci sequence: \");\n",
    "while count <= nterms:\n",
    "    print(n1);\n",
    "    nth = n1 + n2;\n",
    "    n1 = n2;\n",
    "    n2 = nth;\n",
    "    count += 1;"
   ]
  },
  {
   "cell_type": "code",
   "execution_count": 48,
   "metadata": {},
   "outputs": [
    {
     "name": "stdout",
     "output_type": "stream",
     "text": [
      "Sum of numbers in 12 is 3\n"
     ]
    }
   ],
   "source": [
    "num = 12; sum = 0; temp = num;\n",
    "while temp != 0:\n",
    "    remainder = temp % 10;\n",
    "    sum += remainder;\n",
    "    temp //= 10;\n",
    "\n",
    "print(\"Sum of numbers in %s is %s\" %(num, sum))"
   ]
  },
  {
   "cell_type": "code",
   "execution_count": 56,
   "metadata": {},
   "outputs": [
    {
     "name": "stdout",
     "output_type": "stream",
     "text": [
      "4 is not prime\n"
     ]
    }
   ],
   "source": [
    "# using function\n",
    "num = 4;\n",
    "def isPrime(num):\n",
    "    if num > 1:\n",
    "        for n in range(2, num):\n",
    "            if (num % n) == 0:\n",
    "                return \"%s is not prime\" %num;\n",
    "        return \"%s is prime\" %num\n",
    "    else:\n",
    "        return \"%s is neither prime nor composite\" %num\n",
    "print(isPrime(num))"
   ]
  },
  {
   "cell_type": "code",
   "execution_count": 50,
   "metadata": {},
   "outputs": [
    {
     "name": "stdout",
     "output_type": "stream",
     "text": [
      "24 is not prime\n"
     ]
    }
   ],
   "source": [
    "# using if + for loop\n",
    "num = 24;\n",
    "if num > 1:\n",
    "    for i in range(2, num//2):\n",
    "        if (num % i) == 0:\n",
    "            print(\"%s is not prime\" %num);\n",
    "            break;\n",
    "    else:\n",
    "        print(\"%s is prime\" %num);\n",
    "else:\n",
    "    print(\"%s is neither prime nor composite\" %num);"
   ]
  },
  {
   "cell_type": "code",
   "execution_count": 51,
   "metadata": {},
   "outputs": [
    {
     "name": "stdout",
     "output_type": "stream",
     "text": [
      "153 is an Armstrong number\n",
      "370 is an Armstrong number\n",
      "371 is an Armstrong number\n",
      "407 is an Armstrong number\n"
     ]
    }
   ],
   "source": [
    "for i in range(100, 1000):\n",
    "    sum = 0;\n",
    "    order = len(str(i));\n",
    "    temp = i;\n",
    "    while temp > 0:\n",
    "        remainder = temp % 10;\n",
    "        sum += remainder ** order;\n",
    "        temp //= 10;\n",
    "    if i == sum:\n",
    "        print(\"%s is an Armstrong number\" %i);"
   ]
  },
  {
   "cell_type": "code",
   "execution_count": 52,
   "metadata": {},
   "outputs": [
    {
     "name": "stdout",
     "output_type": "stream",
     "text": [
      "24 is not an Armstrong number\n"
     ]
    }
   ],
   "source": [
    "num = int(input(\"Enter a number: \"));\n",
    "temp = num;\n",
    "sum = 0;\n",
    "order = len(str(num));\n",
    "while temp > 0:\n",
    "    remainder = temp % 10;\n",
    "    sum += remainder ** order;\n",
    "    temp //= 10;\n",
    "if num == sum:\n",
    "    print(\"%s is an Armstrong number\" %num);\n",
    "else:\n",
    "    print(\"%s is not an Armstrong number\" %num);"
   ]
  },
  {
   "cell_type": "code",
   "execution_count": 53,
   "metadata": {},
   "outputs": [
    {
     "name": "stdout",
     "output_type": "stream",
     "text": [
      "1 is a palindrome\n",
      "2 is a palindrome\n",
      "3 is a palindrome\n",
      "4 is a palindrome\n",
      "5 is a palindrome\n",
      "6 is a palindrome\n",
      "7 is a palindrome\n",
      "8 is a palindrome\n",
      "9 is a palindrome\n",
      "11 is a palindrome\n",
      "22 is a palindrome\n",
      "33 is a palindrome\n",
      "44 is a palindrome\n",
      "55 is a palindrome\n",
      "66 is a palindrome\n",
      "77 is a palindrome\n",
      "88 is a palindrome\n",
      "99 is a palindrome\n",
      "101 is a palindrome\n",
      "111 is a palindrome\n",
      "121 is a palindrome\n",
      "131 is a palindrome\n",
      "141 is a palindrome\n",
      "151 is a palindrome\n",
      "161 is a palindrome\n",
      "171 is a palindrome\n",
      "181 is a palindrome\n",
      "191 is a palindrome\n"
     ]
    }
   ],
   "source": [
    "for i in range(1, 201):\n",
    "    temp = i;\n",
    "    reversed_num = 0;\n",
    "    while temp != 0:\n",
    "        remainder = temp % 10;\n",
    "        reversed_num = reversed_num * 10 + remainder;\n",
    "        temp //= 10;\n",
    "    if i == reversed_num:\n",
    "        print(\"%s is a palindrome\" %i);"
   ]
  },
  {
   "cell_type": "code",
   "execution_count": 54,
   "metadata": {},
   "outputs": [
    {
     "name": "stdout",
     "output_type": "stream",
     "text": [
      "Largest number is 55\n"
     ]
    }
   ],
   "source": [
    "num = int(input(\"Enter a number: \"));\n",
    "temp = num;\n",
    "while num != 0:\n",
    "    num = int(input(\"Enter a number: \"));\n",
    "    if num > temp:\n",
    "        temp = num;\n",
    "    else:\n",
    "        break;\n",
    "print(\"Largest number is %s\" %temp);"
   ]
  },
  {
   "cell_type": "code",
   "execution_count": 64,
   "metadata": {},
   "outputs": [
    {
     "name": "stdout",
     "output_type": "stream",
     "text": [
      "GCD of 12 and 6 is 6\n"
     ]
    }
   ],
   "source": [
    "num1 = 12;\n",
    "num2 = 18;\n",
    "temp = num1;\n",
    "while temp != 0:\n",
    "    if num1 % num2 == 0:\n",
    "        gcd = num2;\n",
    "        break;\n",
    "    temp = num2;\n",
    "    num2 = num1 % num2;\n",
    "    num1 = temp;\n",
    "print(\"GCD of %s and %s is %s\" %(num1, num2, gcd));"
   ]
  },
  {
   "cell_type": "code",
   "execution_count": 58,
   "metadata": {},
   "outputs": [
    {
     "name": "stdout",
     "output_type": "stream",
     "text": [
      "3 is prime\n",
      "Factorial of 3 is 6\n"
     ]
    }
   ],
   "source": [
    "num = 3;\n",
    "sum = 0;\n",
    "temp = num;\n",
    "if num > 1:\n",
    "    for i in range(2, num//2):\n",
    "        if (num % i) == 0:\n",
    "            print(\"%s is not prime\" %num);\n",
    "            # sum of digit\n",
    "            while temp != 0:\n",
    "                remainder = temp % 10;\n",
    "                sum += remainder;\n",
    "                temp //= 10;\n",
    "            print(\"Sum of digits of %s is %s\" %(num, sum));\n",
    "            break;\n",
    "    else:\n",
    "        print(\"%s is prime\" %num);\n",
    "        # find factorial\n",
    "        factorial = 1;\n",
    "        for i in range(2, num+1):\n",
    "            factorial *= i;\n",
    "        print(\"Factorial of %s is %s\" %(num, factorial));\n",
    "else:\n",
    "    print(\"%s is neither prime nor composite\" %num);"
   ]
  },
  {
   "cell_type": "code",
   "execution_count": 59,
   "metadata": {},
   "outputs": [
    {
     "name": "stdout",
     "output_type": "stream",
     "text": [
      "407 is an Armstrong number\n",
      "Reverse of 407 is 704\n"
     ]
    }
   ],
   "source": [
    "num = 407;\n",
    "order = len(str(num));\n",
    "sum = 0;\n",
    "temp = num;\n",
    "while temp > 0:\n",
    "    remainder = temp % 10;\n",
    "    sum += remainder ** order;\n",
    "    temp //= 10;\n",
    "if num == sum:\n",
    "    print(\"%s is an Armstrong number\" %num);\n",
    "    temp = num;\n",
    "    reversed_num = 0;\n",
    "    while temp != 0:\n",
    "        remainder = temp % 10;\n",
    "        reversed_num = reversed_num * 10 + remainder;\n",
    "        temp //= 10;\n",
    "    print(\"Reverse of %s is %s\" %(num, reversed_num));\n",
    "else:\n",
    "    print(\"%s is not an Armstrong number\" %num);\n",
    "    # check palindrome\n",
    "    temp = num;\n",
    "    reversed_num = 0;\n",
    "    while temp != 0:\n",
    "        remainder = temp % 10;\n",
    "        reversed_num = reversed_num * 10 + remainder;\n",
    "        temp //= 10;\n",
    "    if num == reversed_num:\n",
    "        print(\"%s is a palindrome\" %num);"
   ]
  },
  {
   "cell_type": "code",
   "execution_count": 1,
   "metadata": {},
   "outputs": [
    {
     "name": "stdout",
     "output_type": "stream",
     "text": [
      "Reverse of 24 is 42\n"
     ]
    }
   ],
   "source": [
    "num = 4;\n",
    "factorial = 1;\n",
    "for i in range(2, num+1):\n",
    "    factorial *= i;\n",
    "if factorial > 500:\n",
    "    # sum of digit\n",
    "    temp = factorial;\n",
    "    sum = 0;\n",
    "    while temp != 0:\n",
    "        remainder = temp % 10;\n",
    "        sum += remainder;\n",
    "        temp //= 10;\n",
    "    print(\"Sum of digits of %s is %s\" %(factorial, sum));\n",
    "else:\n",
    "    # print reverse\n",
    "    temp = factorial;\n",
    "    reversed_num = 0;\n",
    "    while temp != 0:\n",
    "        remainder = temp % 10;\n",
    "        reversed_num = reversed_num * 10 + remainder;\n",
    "        temp //= 10;\n",
    "    print(\"Reverse of %s is %s\" %(factorial, reversed_num));"
   ]
  }
 ],
 "metadata": {
  "interpreter": {
   "hash": "e7370f93d1d0cde622a1f8e1c04877d8463912d04d973331ad4851f04de6915a"
  },
  "kernelspec": {
   "display_name": "Python 3.10.2 64-bit",
   "language": "python",
   "name": "python3"
  },
  "language_info": {
   "codemirror_mode": {
    "name": "ipython",
    "version": 3
   },
   "file_extension": ".py",
   "mimetype": "text/x-python",
   "name": "python",
   "nbconvert_exporter": "python",
   "pygments_lexer": "ipython3",
   "version": "3.10.2"
  },
  "orig_nbformat": 4
 },
 "nbformat": 4,
 "nbformat_minor": 2
}
