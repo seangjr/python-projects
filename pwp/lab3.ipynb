{
 "cells": [
  {
   "cell_type": "code",
   "execution_count": 1,
   "metadata": {},
   "outputs": [
    {
     "name": "stdout",
     "output_type": "stream",
     "text": [
      "1\n",
      "2\n",
      "3\n",
      "4\n",
      "5\n",
      "6\n",
      "7\n",
      "8\n",
      "9\n",
      "10\n",
      "11\n",
      "12\n",
      "13\n",
      "14\n",
      "15\n"
     ]
    }
   ],
   "source": [
    "for i in range(1, 16):\n",
    "    print(i);\n"
   ]
  },
  {
   "cell_type": "code",
   "execution_count": 5,
   "metadata": {},
   "outputs": [
    {
     "name": "stdout",
     "output_type": "stream",
     "text": [
      "55\n"
     ]
    }
   ],
   "source": [
    "sum = 0;\n",
    "for i in range(1, 11):\n",
    "    sum += i;\n",
    "print(sum);"
   ]
  },
  {
   "cell_type": "code",
   "execution_count": 8,
   "metadata": {},
   "outputs": [
    {
     "name": "stdout",
     "output_type": "stream",
     "text": [
      "30\n"
     ]
    }
   ],
   "source": [
    "sum = 0;\n",
    "for i in range(0, 11, 2):\n",
    "    sum += i;\n",
    "print(sum);"
   ]
  },
  {
   "cell_type": "code",
   "execution_count": 9,
   "metadata": {},
   "outputs": [
    {
     "name": "stdout",
     "output_type": "stream",
     "text": [
      "Even numbers from 1 to 20\n",
      "0\n",
      "2\n",
      "4\n",
      "6\n",
      "8\n",
      "10\n",
      "12\n",
      "14\n",
      "16\n",
      "18\n",
      "20\n",
      "Odd numbers from 1 to 20\n",
      "1\n",
      "3\n",
      "5\n",
      "7\n",
      "9\n",
      "11\n",
      "13\n",
      "15\n",
      "17\n",
      "19\n"
     ]
    }
   ],
   "source": [
    "print(\"Even numbers from 1 to 20\");\n",
    "for i in range(0, 21, 2):\n",
    "    print(i);\n",
    "print(\"Odd numbers from 1 to 20\");\n",
    "for j in range(1, 21, 2):\n",
    "    print(j);"
   ]
  },
  {
   "cell_type": "code",
   "execution_count": 13,
   "metadata": {},
   "outputs": [
    {
     "name": "stdout",
     "output_type": "stream",
     "text": [
      "2 x 1 = 2\n",
      "2 x 2 = 4\n",
      "2 x 3 = 6\n",
      "2 x 4 = 8\n",
      "2 x 5 = 10\n",
      "2 x 6 = 12\n",
      "2 x 7 = 14\n",
      "2 x 8 = 16\n",
      "2 x 9 = 18\n",
      "2 x 10 = 20\n"
     ]
    }
   ],
   "source": [
    "num = int(input(\"Enter a number: \"));\n",
    "sum = 0;\n",
    "for i in range(1, 11):\n",
    "    sum = num * i;\n",
    "    print(f\"{num} x {i} = {sum}\");"
   ]
  },
  {
   "cell_type": "code",
   "execution_count": 14,
   "metadata": {},
   "outputs": [
    {
     "name": "stdout",
     "output_type": "stream",
     "text": [
      "Sum of all even numbers from 1 to 20 is:  110\n",
      "Sum of all odd numbers from 1 to 20 is:  100\n"
     ]
    }
   ],
   "source": [
    "evensum = 0;\n",
    "oddsum = 0;\n",
    "for i in range(0, 21, 2):\n",
    "    evensum += i;\n",
    "print(\"Sum of all even numbers from 1 to 20 is: \", evensum);\n",
    "for j in range(1, 21, 2):\n",
    "    oddsum += j;\n",
    "print(\"Sum of all odd numbers from 1 to 20 is: \", oddsum);"
   ]
  },
  {
   "cell_type": "code",
   "execution_count": 16,
   "metadata": {},
   "outputs": [
    {
     "name": "stdout",
     "output_type": "stream",
     "text": [
      "Factorial of 3 is 6\n"
     ]
    }
   ],
   "source": [
    "factorial = 1;\n",
    "num = 3;\n",
    "for i in range(1, num+1):\n",
    "    factorial *= i;\n",
    "print(f\"Factorial of {num} is {factorial}\");"
   ]
  },
  {
   "cell_type": "code",
   "execution_count": 23,
   "metadata": {},
   "outputs": [
    {
     "name": "stdout",
     "output_type": "stream",
     "text": [
      "Reverse of 1234 is 4321\n"
     ]
    }
   ],
   "source": [
    "num = 1234;\n",
    "temp = num;\n",
    "reversed_num = 0;\n",
    "\n",
    "while temp != 0:\n",
    "    remainder = temp % 10;\n",
    "    reversed_num = reversed_num * 10 + remainder;\n",
    "    temp //= 10;\n",
    "\n",
    "print(\"Reverse of %s is %s\" %(num, reversed_num));"
   ]
  },
  {
   "cell_type": "code",
   "execution_count": 28,
   "metadata": {},
   "outputs": [
    {
     "name": "stdout",
     "output_type": "stream",
     "text": [
      "407 is an Armstrong number\n"
     ]
    }
   ],
   "source": [
    "num = 407;\n",
    "order = len(str(num));\n",
    "sum = 0;\n",
    "temp = num;\n",
    "\n",
    "while temp > 0:\n",
    "    remainder = temp % 10;\n",
    "    sum += remainder ** order;\n",
    "    temp //= 10;\n",
    "\n",
    "if num == sum:\n",
    "    print(\"%s is an Armstrong number\" %num);\n",
    "else:\n",
    "    print(\"%s is not an Armstrong number\" %num);"
   ]
  },
  {
   "cell_type": "code",
   "execution_count": 33,
   "metadata": {},
   "outputs": [
    {
     "name": "stdout",
     "output_type": "stream",
     "text": [
      "23432 is a palindrome\n"
     ]
    }
   ],
   "source": [
    "num = 23432;\n",
    "temp = num;\n",
    "reversed_num = 0;\n",
    "\n",
    "while temp != 0:\n",
    "    remainder = temp % 10;\n",
    "    reversed_num = reversed_num * 10 + remainder;\n",
    "    temp //= 10;\n",
    "\n",
    "if num == reversed_num:\n",
    "    print(\"%s is a palindrome\" %num);\n",
    "else:\n",
    "    print(\"%s is not a palindrome\" %num);"
   ]
  },
  {
   "cell_type": "code",
   "execution_count": 88,
   "metadata": {},
   "outputs": [
    {
     "name": "stdout",
     "output_type": "stream",
     "text": [
      "Fibonacci sequence: \n",
      "0\n",
      "1\n",
      "1\n",
      "2\n",
      "3\n",
      "5\n",
      "8\n",
      "13\n",
      "21\n",
      "34\n",
      "55\n"
     ]
    }
   ],
   "source": [
    "nterms = 10; n1, n2 = 0, 1; count = 0;\n",
    "print(\"Fibonacci sequence: \");\n",
    "while count <= nterms:\n",
    "    print(n1);\n",
    "    nth = n1 + n2;\n",
    "    n1 = n2;\n",
    "    n2 = nth;\n",
    "    count += 1;"
   ]
  },
  {
   "cell_type": "code",
   "execution_count": 42,
   "metadata": {},
   "outputs": [
    {
     "name": "stdout",
     "output_type": "stream",
     "text": [
      "Sum of numbers in 12 is 3\n"
     ]
    }
   ],
   "source": [
    "num = 12; sum = 0; temp = num;\n",
    "while temp != 0:\n",
    "    remainder = temp % 10;\n",
    "    sum += remainder;\n",
    "    temp //= 10;\n",
    "\n",
    "print(\"Sum of numbers in %s is %s\" %(num, sum))"
   ]
  },
  {
   "cell_type": "code",
   "execution_count": 57,
   "metadata": {},
   "outputs": [
    {
     "name": "stdout",
     "output_type": "stream",
     "text": [
      "3 is prime\n"
     ]
    }
   ],
   "source": [
    "# using function\n",
    "num = 3;\n",
    "def isPrime(num):\n",
    "    if num > 1:\n",
    "        for n in range(2, num):\n",
    "            if (num % n) == 0:\n",
    "                return \"%s is not prime\" %num;\n",
    "        return \"%s is prime\" %num\n",
    "    else:\n",
    "        return \"%s is neither prime nor composite\" %num\n",
    "print(isPrime(num))"
   ]
  },
  {
   "cell_type": "code",
   "execution_count": 87,
   "metadata": {},
   "outputs": [
    {
     "name": "stdout",
     "output_type": "stream",
     "text": [
      "24 is not prime\n"
     ]
    }
   ],
   "source": [
    "# using if + for loop\n",
    "num = 24;\n",
    "if num > 1:\n",
    "    for i in range(2, num//2):\n",
    "        if (num % i) == 0:\n",
    "            print(\"%s is not prime\" %num);\n",
    "            break;\n",
    "    else:\n",
    "        print(\"%s is prime\" %num);\n",
    "else:\n",
    "    print(\"%s is neither prime nor composite\" %num);"
   ]
  }
 ],
 "metadata": {
  "interpreter": {
   "hash": "e7370f93d1d0cde622a1f8e1c04877d8463912d04d973331ad4851f04de6915a"
  },
  "kernelspec": {
   "display_name": "Python 3.10.2 64-bit",
   "language": "python",
   "name": "python3"
  },
  "language_info": {
   "codemirror_mode": {
    "name": "ipython",
    "version": 3
   },
   "file_extension": ".py",
   "mimetype": "text/x-python",
   "name": "python",
   "nbconvert_exporter": "python",
   "pygments_lexer": "ipython3",
   "version": "3.10.2"
  },
  "orig_nbformat": 4
 },
 "nbformat": 4,
 "nbformat_minor": 2
}
