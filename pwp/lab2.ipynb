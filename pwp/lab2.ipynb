{
 "cells": [
  {
   "cell_type": "code",
   "execution_count": 3,
   "metadata": {},
   "outputs": [
    {
     "name": "stdout",
     "output_type": "stream",
     "text": [
      "Even\n"
     ]
    }
   ],
   "source": [
    "number = 2\n",
    "if (number % 2 == 0):\n",
    "    print(\"Even\")\n",
    "else:\n",
    "    print(\"Odd\")\n"
   ]
  },
  {
   "cell_type": "code",
   "execution_count": null,
   "metadata": {},
   "outputs": [],
   "source": [
    "year = int(input(\"Enter a year: \"))\n",
    "if (year % 4 == 0 and year % 100 != 0) or (year % 400 == 0):\n",
    "    print(f\"{year} is a leap year\")"
   ]
  },
  {
   "cell_type": "code",
   "execution_count": null,
   "metadata": {},
   "outputs": [],
   "source": [
    "number1, number2 = 0, 1\n",
    "if number1 > number2:\n",
    "    print(f\"{number1} is greater than {number2}\")\n",
    "else:\n",
    "    print(f\"{number2} is greater than {number1}\")"
   ]
  },
  {
   "cell_type": "code",
   "execution_count": 4,
   "metadata": {},
   "outputs": [
    {
     "name": "stdout",
     "output_type": "stream",
     "text": [
      "Grade A+. Sean has scored 87.4%\n"
     ]
    }
   ],
   "source": [
    "score_dictionary = {}\n",
    "studentname = input(\"Enter student name: \")\n",
    "tpnumber = input(\"Enter TP Number: \")\n",
    "for i in range(1, 6):\n",
    "    score_dictionary[\"subject%s\" %i] = int(input(f\"Enter score for Subject%s: \" %i))\n",
    "average = sum(score_dictionary.values()) / len(score_dictionary)\n",
    "if average >= 81 and average <= 100:\n",
    "    print(f\"Grade A+. {studentname} has scored {average}%\")\n",
    "elif average >= 76 and average <= 80:\n",
    "    print(f\"Grade A. {studentname} has scored {average}%\")\n",
    "elif average >= 71 and average <= 75:\n",
    "    print(f\"Grade B+. {studentname} has scored {average}%\")\n",
    "elif average >= 66 and average <= 70:\n",
    "    print(f\"Grade B. {studentname} has scored {average}%\")\n",
    "elif average >= 61 and average <= 65:\n",
    "    print(f\"Grade C+. {studentname} has scored {average}%\")\n",
    "elif average >= 56 and average <= 60:\n",
    "    print(f\"Grade C. {studentname} has scored {average}%\")\n",
    "elif average >= 51 and average <= 55:\n",
    "    print(f\"Grade C-. {studentname} has scored {average}%\")\n",
    "else:\n",
    "    print(f\"Grade D. {studentname} has scored {average}%\")\n"
   ]
  },
  {
   "cell_type": "code",
   "execution_count": 1,
   "metadata": {},
   "outputs": [
    {
     "name": "stdout",
     "output_type": "stream",
     "text": [
      "Customer name: Sean\n",
      "Purchase amount: 200\n",
      "Sales tax: 10.0\n",
      "Total: 210.0\n"
     ]
    }
   ],
   "source": [
    "customername = input(\"Enter customer name: \");\n",
    "purchaseamount = int(input(\"Enter purchase amount: \"));\n",
    "taxCode = int(input(\"Enter tax code: \"));\n",
    "\n",
    "if taxCode == 0:\n",
    "    salesTax = 0;\n",
    "elif taxCode == 1:\n",
    "    salesTax = purchaseamount * 0.03;\n",
    "elif taxCode == 2:\n",
    "    salesTax = purchaseamount * 0.05;\n",
    "elif taxCode == 3:\n",
    "    salesTax = purchaseamount * 0.07;\n",
    "else:\n",
    "    print(\"Invalid tax code!\");\n",
    "\n",
    "total = purchaseamount + salesTax;\n",
    "\n",
    "print(f\"Customer name: {customername}\\nPurchase amount: ${purchaseamount}\\nSales tax: ${salesTax}\\nTotal: ${total}\");\n"
   ]
  },
  {
   "cell_type": "code",
   "execution_count": 5,
   "metadata": {},
   "outputs": [
    {
     "name": "stdout",
     "output_type": "stream",
     "text": [
      "Body temperature is normal.\n"
     ]
    }
   ],
   "source": [
    "temperature = float(input(\"Enter temperature: \"));\n",
    "if temperature < 36.5:\n",
    "    print(\"Body temperature is too low! Please consult a doctor.\");\n",
    "elif temperature >= 36.5 and temperature <= 37.5:\n",
    "    print(\"Body temperature is normal.\");\n",
    "elif temperature > 37.5:\n",
    "    print(\"Body temperature is too high! Please consult a doctor.\");\n"
   ]
  },
  {
   "cell_type": "code",
   "execution_count": 2,
   "metadata": {},
   "outputs": [
    {
     "name": "stdout",
     "output_type": "stream",
     "text": [
      "Customer name: Sean\n",
      "Purchase amount: 300\n",
      "Final bill: 288\n"
     ]
    }
   ],
   "source": [
    "customername = input(\"Enter customer name: \");\n",
    "purchaseamount = int(input(\"Enter purchase amount: \"));\n",
    "\n",
    "if purchaseamount >= 0 and purchaseamount <= 100:\n",
    "    finalbill = purchaseamount * 0.98\n",
    "elif purchaseamount >= 101 and purchaseamount <= 200:\n",
    "    finalbill = purchaseamount * 0.97\n",
    "elif purchaseamount >= 201 and purchaseamount <= 300:\n",
    "    finalbill = purchaseamount * 0.96\n",
    "elif purchaseamount > 300:\n",
    "    finalbill = purchaseamount * 0.90\n",
    "\n",
    "print(\"Customer name: %s\\nPurchase amount: $%d\\nFinal bill after discount: $%d\" %(customername, purchaseamount, finalbill));"
   ]
  }
 ],
 "metadata": {
  "interpreter": {
   "hash": "e7370f93d1d0cde622a1f8e1c04877d8463912d04d973331ad4851f04de6915a"
  },
  "kernelspec": {
   "display_name": "Python 3.10.2 64-bit",
   "language": "python",
   "name": "python3"
  },
  "language_info": {
   "codemirror_mode": {
    "name": "ipython",
    "version": 3
   },
   "file_extension": ".py",
   "mimetype": "text/x-python",
   "name": "python",
   "nbconvert_exporter": "python",
   "pygments_lexer": "ipython3",
   "version": "3.10.2"
  },
  "orig_nbformat": 4
 },
 "nbformat": 4,
 "nbformat_minor": 2
}
