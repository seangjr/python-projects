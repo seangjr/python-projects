{
 "cells": [
  {
   "cell_type": "code",
   "execution_count": 1,
   "metadata": {},
   "outputs": [
    {
     "name": "stdout",
     "output_type": "stream",
     "text": [
      "The temperature in Celsius is:  1.1111111111111112\n",
      "The temperature in Celsius is:  7.222222222222222\n",
      "The temperature in Celsius is:  25.0\n",
      "The temperature in Celsius is:  -15.555555555555555\n",
      "The temperature in Celsius is:  1.1111111111111112\n",
      "The temperature in Celsius is:  12.777777777777779\n",
      "The temperature in Celsius is:  6.666666666666667\n",
      "The temperature in Celsius is:  -13.88888888888889\n",
      "The temperature in Celsius is:  25.0\n",
      "The temperature in Celsius is:  6.666666666666667\n",
      "The temperature in Celsius is:  18.88888888888889\n",
      "The temperature in Celsius is:  12.777777777777779\n",
      "The temperature in Celsius is:  18.88888888888889\n",
      "The temperature in Celsius is:  25.0\n",
      "The temperature in Celsius is:  7.222222222222222\n",
      "The temperature in Celsius is:  1.1111111111111112\n",
      "All temperatures have been converted.\n"
     ]
    }
   ],
   "source": [
    "for i in range(16):\n",
    "    f_temp = int(input(\"Enter the temperature in Fahrenheit: \"));\n",
    "    c_temp = (f_temp - 32) * 5/9;\n",
    "    print(\"The temperature in Celsius is: \", c_temp);\n",
    "print(\"All temperatures have been converted.\");"
   ]
  },
  {
   "cell_type": "code",
   "execution_count": 2,
   "metadata": {},
   "outputs": [
    {
     "name": "stdout",
     "output_type": "stream",
     "text": [
      "The class average grade is:  66.25\n"
     ]
    }
   ],
   "source": [
    "n = 4;\n",
    "sum = 0;\n",
    "for i in range(n):\n",
    "    student_name = input(\"Enter the student's name: \");\n",
    "    student_grade = int(input(\"Enter the grade for %s: \" % student_name));\n",
    "    sum += student_grade;\n",
    "print(\"The class average grade is: \", sum/n);\n"
   ]
  },
  {
   "cell_type": "code",
   "execution_count": 3,
   "metadata": {},
   "outputs": [
    {
     "name": "stdout",
     "output_type": "stream",
     "text": [
      "Redo the assignment\n"
     ]
    }
   ],
   "source": [
    "a_marks = int(input(\"Enter your assignment marks: \"))\n",
    "if a_marks < 25:\n",
    "    print(\"Redo the assignment\")\n",
    "else:\n",
    "    t_marks = int(input(\"Enter your test marks: \"))\n",
    "    if t_marks < 25:\n",
    "        print(\"Resit the test\")\n",
    "    else:\n",
    "        e_marks = int(input(\"Enter your exam marks: \"))\n",
    "        if e_marks < 50:\n",
    "            print(\"Resit the exam\")\n",
    "        else:\n",
    "            print(\"You have passed the module\")"
   ]
  }
 ],
 "metadata": {
  "interpreter": {
   "hash": "e7370f93d1d0cde622a1f8e1c04877d8463912d04d973331ad4851f04de6915a"
  },
  "kernelspec": {
   "display_name": "Python 3.10.2 64-bit",
   "language": "python",
   "name": "python3"
  },
  "language_info": {
   "codemirror_mode": {
    "name": "ipython",
    "version": 3
   },
   "file_extension": ".py",
   "mimetype": "text/x-python",
   "name": "python",
   "nbconvert_exporter": "python",
   "pygments_lexer": "ipython3",
   "version": "3.10.2"
  },
  "orig_nbformat": 4
 },
 "nbformat": 4,
 "nbformat_minor": 2
}
