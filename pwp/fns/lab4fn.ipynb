{
 "cells": [
  {
   "cell_type": "code",
   "execution_count": null,
   "metadata": {},
   "outputs": [],
   "source": [
    "def sumNum(x, y):\n",
    "    return x + y;\n",
    "\n",
    "num1 = int(input(\"Enter a number: \"))\n",
    "num2 = int(input(\"Enter another number: \"))\n",
    "print(\"The sum of the two numbers is: \", sumNum(num1, num2))"
   ]
  },
  {
   "cell_type": "code",
   "execution_count": null,
   "metadata": {},
   "outputs": [],
   "source": [
    "def difference(x, y):\n",
    "    return x - y;\n",
    "\n",
    "num1 = int(input(\"Enter a number: \"))\n",
    "num2 = int(input(\"Enter another number: \"))\n",
    "print(\"The difference of the two numbers is: \", difference(num1, num2))"
   ]
  },
  {
   "cell_type": "code",
   "execution_count": null,
   "metadata": {},
   "outputs": [],
   "source": [
    "def average(x, y, z):\n",
    "    return (x + y + z)/3;\n",
    "\n",
    "num1 = int(input(\"Enter a number: \"))\n",
    "num2 = int(input(\"Enter another number: \"))\n",
    "num3 = int(input(\"Enter another number: \"))\n",
    "print(\"The average of the three numbers is: \", average(num1, num2, num3))"
   ]
  },
  {
   "cell_type": "code",
   "execution_count": null,
   "metadata": {},
   "outputs": [],
   "source": [
    "def add(x ,y):\n",
    "    return x + y;\n",
    "\n",
    "def sub(x, y):\n",
    "    return x - y;\n",
    "\n",
    "def mult(x, y):\n",
    "    return x * y;\n",
    "\n",
    "def div(x, y):\n",
    "    return x / y;\n",
    "\n",
    "num1 = int(input(\"Enter a number: \"))\n",
    "num2 = int(input(\"Enter another number: \"))\n",
    "print(\"Arithmetic operations: \\n1. Addition\\n2. Subtraction\\n3. Multiplication\\n4. Division\")\n",
    "choice = int(input(\"Enter your choice: \"))\n",
    "if choice == 1:\n",
    "    print(\"Sum of the two numbers is: \", add(num1, num2))\n",
    "elif choice == 2:\n",
    "    print(\"Difference of the two numbers is: \", sub(num1, num2))\n",
    "elif choice == 3:\n",
    "    print(\"Product of the two numbers is: \", mult(num1, num2))\n",
    "elif choice == 4:\n",
    "    print(\"Quotient of the two numbers is: \", div(num1, num2))\n",
    "else:\n",
    "    print(\"Invalid choice\")"
   ]
  },
  {
   "cell_type": "code",
   "execution_count": null,
   "metadata": {},
   "outputs": [],
   "source": [
    "def area(r):\n",
    "    return 3.14159 * r * r;\n",
    "\n",
    "def circumference(r):\n",
    "    return 2 * 3.14159 * r;\n",
    "\n",
    "def menu():\n",
    "    print(\"1. Area of a circle\\n2. Circumference of a circle\\n3. Exit\")\n",
    "    option = int(input(\"Enter your choice: \"))\n",
    "    if option == 1:\n",
    "        radius = int(input(\"Enter the radius: \"))\n",
    "        print(\"Area of the circle is: \", area(radius))\n",
    "        menu()\n",
    "    elif option == 2:\n",
    "        radius = int(input(\"Enter the radius: \"))\n",
    "        print(\"Circumference of the circle is: \", circumference(radius))\n",
    "        menu()\n",
    "    elif option == 3:\n",
    "        exit()\n",
    "    else:\n",
    "        print(\"Invalid choice\")\n",
    "        menu()\n",
    "menu()"
   ]
  }
 ],
 "metadata": {
  "language_info": {
   "name": "python"
  },
  "orig_nbformat": 4
 },
 "nbformat": 4,
 "nbformat_minor": 2
}
