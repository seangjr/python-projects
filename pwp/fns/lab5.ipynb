{
 "cells": [
  {
   "cell_type": "code",
   "execution_count": null,
   "metadata": {},
   "outputs": [],
   "source": [
    "def get_input():\n",
    "    \"\"\"\n",
    "    This function gets 2 input of numbers from the users and returns the result of addition.\n",
    "    \"\"\"\n",
    "    num1 = int(input(\"Enter first number: \"));\n",
    "    num2 = int(input(\"Enter second number: \"));\n",
    "    return num1 + num2;\n",
    "\n",
    "sum = get_input();\n",
    "print(\"The sum of the numbers is: \", sum);\n"
   ]
  },
  {
   "cell_type": "code",
   "execution_count": null,
   "metadata": {},
   "outputs": [],
   "source": [
    "def add(num1, num2):\n",
    "    return num1 + num2;\n",
    "\n",
    "def sub(num1, num2):\n",
    "    return num1 - num2;\n",
    "\n",
    "def mul(num1, num2):\n",
    "    return num1 * num2;\n",
    "\n",
    "def div(num1, num2):\n",
    "    return num1 / num2;\n",
    "\n",
    "num1 = int(input(\"Enter first number: \"));\n",
    "num2 = int(input(\"Enter second number: \"));\n",
    "print(\"Arithmetic operations: \\n1. Addition\\n2. Subtraction\\n3. Multiplication\\n4. Division\");\n",
    "choice = int(input(\"Enter your choice: \"));\n",
    "if choice == 1:\n",
    "    print(\"The sum of the numbers is: \", add(num1, num2));\n",
    "elif choice == 2:\n",
    "    print(\"The difference of the numbers is: \", sub(num1, num2));\n",
    "elif choice == 3:\n",
    "    print(\"The product of the numbers is: \", mul(num1, num2));\n",
    "elif choice == 4:\n",
    "    print(\"The quotient of the numbers is: \", div(num1, num2));\n",
    "else:\n",
    "    print(\"Invalid choice!\");\n"
   ]
  },
  {
   "cell_type": "code",
   "execution_count": 5,
   "metadata": {},
   "outputs": [
    {
     "name": "stdout",
     "output_type": "stream",
     "text": [
      "66 is not in the list\n"
     ]
    }
   ],
   "source": [
    "list = [65, 75, 85, 95, 105];\n",
    "def check_number(num, list):\n",
    "    found = False\n",
    "    for i in range(0, len(list)):\n",
    "        if num == list[i]:\n",
    "            found = True;\n",
    "            print(num, \"is in the list\");\n",
    "            break;\n",
    "        else:\n",
    "            print(num, \"is not in the list\");\n",
    "            break;\n",
    "num = int(input(\"Enter a number: \"));\n",
    "check_number(num, list);"
   ]
  },
  {
   "cell_type": "code",
   "execution_count": 1,
   "metadata": {},
   "outputs": [
    {
     "name": "stdout",
     "output_type": "stream",
     "text": [
      "Total of all Subjects:  324\n",
      "Average of all Subjects:  81.0\n",
      "Grade of the student:  A\n"
     ]
    }
   ],
   "source": [
    "marks = []\n",
    "\n",
    "def mark(subject_count):\n",
    "    for i in range(0, subject_count):\n",
    "        marks.append(int(input(\"Enter marks of subject \" + str(i + 1) + \": \")));\n",
    "\n",
    "def average(marks):\n",
    "    sum = 0;\n",
    "    for i in range(0, len(marks)):\n",
    "        sum += marks[i];\n",
    "    return sum / len(marks);\n",
    "\n",
    "def grade(marks):\n",
    "    grade = \"\"\n",
    "    if marks >= 80:\n",
    "        grade = \"A\";\n",
    "    elif marks >= 75 and marks < 80:\n",
    "        grade = \"A+\";\n",
    "    elif marks >= 70 and marks < 75:\n",
    "        grade = \"B+\";\n",
    "    elif marks >= 65 and marks < 70:\n",
    "        grade = \"B\";\n",
    "    elif marks >= 60 and marks < 65:\n",
    "        grade = \"B-\";\n",
    "    elif marks >= 55 and marks < 60:\n",
    "        grade = \"C+\";\n",
    "    elif marks >= 50 and marks < 55:\n",
    "        grade = \"C\";\n",
    "    elif marks < 50:\n",
    "        grade = \"F\";\n",
    "    else:\n",
    "        grade = \"Invalid\";\n",
    "    return grade;\n",
    "\n",
    "def display(avg, grade):\n",
    "    sum = 0\n",
    "    for i in range(0, len(marks)):\n",
    "        sum += marks[i];\n",
    "    print(\"Total of all Subjects: \", sum);\n",
    "    print(\"Average of all Subjects: \", avg);\n",
    "    print(\"Grade of the student: \", grade);\n",
    "\n",
    "def main():\n",
    "    choice = int(input(\"Do you want to continue? '0' to continue, '-1' to terminate\"));\n",
    "    while choice != -1:\n",
    "        action = int(input(\"Your options are: \\n1. Add new student detail\\n2. View all student details\\n3. Search specific student detail\"));\n",
    "        if action == 1:\n",
    "            name = str(input(\"Enter name of the student: \"));\n",
    "            input(\"Enter TP number of %s: \" %name);\n",
    "            subject_count = int(input(\"Enter number of subjects this semester: \"));\n",
    "            mark(subject_count);\n",
    "            avg = average(marks);\n",
    "            grades = grade(avg);\n",
    "            display(avg, grades);\n",
    "            choice = int(input(\"Do you want to continue? '0' to continue, '-1' to terminate\"));\n",
    "\n",
    "main();"
   ]
  }
 ],
 "metadata": {
  "interpreter": {
   "hash": "e7370f93d1d0cde622a1f8e1c04877d8463912d04d973331ad4851f04de6915a"
  },
  "kernelspec": {
   "display_name": "Python 3.10.2 64-bit",
   "language": "python",
   "name": "python3"
  },
  "language_info": {
   "codemirror_mode": {
    "name": "ipython",
    "version": 3
   },
   "file_extension": ".py",
   "mimetype": "text/x-python",
   "name": "python",
   "nbconvert_exporter": "python",
   "pygments_lexer": "ipython3",
   "version": "3.10.2"
  },
  "orig_nbformat": 4
 },
 "nbformat": 4,
 "nbformat_minor": 2
}
